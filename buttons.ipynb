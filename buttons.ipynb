{
 "cells": [
  {
   "cell_type": "markdown",
   "id": "6c0acb8f",
   "metadata": {},
   "source": [
    "# SET THE BPM"
   ]
  },
  {
   "cell_type": "code",
   "execution_count": 64,
   "id": "16e9e196",
   "metadata": {},
   "outputs": [
    {
     "name": "stdout",
     "output_type": "stream",
     "text": [
      "new BPM is 20\n"
     ]
    }
   ],
   "source": [
    "bpm = 20\n",
    "\n",
    "redis_set(bpm=bpm)\n",
    "print(\"new BPM is {}\".format(int(redis_get(\"bpm\")[0])))"
   ]
  },
  {
   "cell_type": "markdown",
   "id": "9ded7758",
   "metadata": {},
   "source": [
    "# MAKE IT FASTER"
   ]
  },
  {
   "cell_type": "code",
   "execution_count": 57,
   "id": "f2b5978d",
   "metadata": {},
   "outputs": [
    {
     "name": "stdout",
     "output_type": "stream",
     "text": [
      "new BPM is 58\n"
     ]
    }
   ],
   "source": [
    "redis_set(bpm=int(redis_get(\"bpm\")[0]) + 10)\n",
    "print(\"new BPM is {}\".format(int(redis_get(\"bpm\")[0])))"
   ]
  },
  {
   "cell_type": "markdown",
   "id": "18ef9df8",
   "metadata": {},
   "source": [
    "# MAKE IT SLOWER"
   ]
  },
  {
   "cell_type": "code",
   "execution_count": 61,
   "id": "f7c3c7e9",
   "metadata": {},
   "outputs": [
    {
     "name": "stdout",
     "output_type": "stream",
     "text": [
      "new BPM is 18\n"
     ]
    }
   ],
   "source": [
    "redis_set(bpm=max(1, int(redis_get(\"bpm\")[0]) - 10))\n",
    "print(\"new BPM is {}\".format(int(redis_get(\"bpm\")[0])))"
   ]
  },
  {
   "cell_type": "markdown",
   "id": "17919faa",
   "metadata": {},
   "source": [
    "# TOGGLE THE STROBE"
   ]
  },
  {
   "cell_type": "code",
   "execution_count": 32,
   "id": "03e6395c",
   "metadata": {},
   "outputs": [
    {
     "name": "stdout",
     "output_type": "stream",
     "text": [
      "strobe is OFF\n"
     ]
    }
   ],
   "source": [
    "redis_set(show_flash=1 - int(redis_get(\"show_flash\")[0]))\n",
    "print(\"strobe is \" + (\"ON\" if bool(int(redis_get(\"show_flash\")[0])) else \"OFF\"))"
   ]
  },
  {
   "cell_type": "markdown",
   "id": "6de4aab8",
   "metadata": {},
   "source": [
    "# TOGGLE THE FIREBALL LAUNCHER"
   ]
  },
  {
   "cell_type": "code",
   "execution_count": 34,
   "id": "eb50f251",
   "metadata": {},
   "outputs": [
    {
     "name": "stdout",
     "output_type": "stream",
     "text": [
      "fireball launcher is OFF\n"
     ]
    }
   ],
   "source": [
    "redis_set(show_launcher=1 - int(redis_get(\"show_launcher\")[0]))\n",
    "print(\"fireball launcher is \" + (\"ON\" if bool(int(redis_get(\"show_launcher\")[0])) else \"OFF\"))"
   ]
  },
  {
   "cell_type": "markdown",
   "id": "97d1e8eb",
   "metadata": {},
   "source": [
    "# TOGGLE LOOPER 1"
   ]
  },
  {
   "cell_type": "code",
   "execution_count": 23,
   "id": "ba7d2280",
   "metadata": {},
   "outputs": [
    {
     "name": "stdout",
     "output_type": "stream",
     "text": [
      "looper 1 is OFF\n"
     ]
    }
   ],
   "source": [
    "redis_set(show_lb_1=1 - int(redis_get(\"show_lb_1\")[0]))\n",
    "print(\"looper 1 is \" + (\"ON\" if bool(int(redis_get(\"show_lb_1\")[0])) else \"OFF\"))"
   ]
  },
  {
   "cell_type": "markdown",
   "id": "0665910f",
   "metadata": {},
   "source": [
    "# TOGGLE LOOPER 2"
   ]
  },
  {
   "cell_type": "code",
   "execution_count": 24,
   "id": "b1979148",
   "metadata": {},
   "outputs": [
    {
     "name": "stdout",
     "output_type": "stream",
     "text": [
      "looper 2 is OFF\n"
     ]
    }
   ],
   "source": [
    "redis_set(show_lb_2=1 - int(redis_get(\"show_lb_2\")[0]))\n",
    "print(\"looper 2 is \" + (\"ON\" if bool(int(redis_get(\"show_lb_2\")[0])) else \"OFF\"))"
   ]
  },
  {
   "cell_type": "markdown",
   "id": "f3090cc4",
   "metadata": {},
   "source": [
    "# SET LOOPER 1 HUE"
   ]
  },
  {
   "cell_type": "code",
   "execution_count": 35,
   "id": "f74891dc",
   "metadata": {},
   "outputs": [
    {
     "name": "stdout",
     "output_type": "stream",
     "text": [
      "looper 1 hue is 80\n"
     ]
    }
   ],
   "source": [
    "lb_1_hue = 80\n",
    "redis_set(lb_1_hue=lb_1_hue)\n",
    "print(\"looper 1 hue is {}\".format(int(redis_get(\"lb_1_hue\")[0])))"
   ]
  },
  {
   "cell_type": "markdown",
   "id": "cbf4be16",
   "metadata": {},
   "source": [
    "# MESS WITH THE LOOPER HUES"
   ]
  },
  {
   "cell_type": "code",
   "execution_count": 20,
   "id": "4468c2c4",
   "metadata": {},
   "outputs": [
    {
     "name": "stdout",
     "output_type": "stream",
     "text": [
      "looper 1 hue is 128\n",
      "looper 2 hue is 171\n"
     ]
    }
   ],
   "source": [
    "new_lb_1_hue = (int(redis_get(\"lb_1_hue\")[0]) - 33) % 255\n",
    "new_lb_2_hue = (int(redis_get(\"lb_2_hue\")[0]) - 33) % 255\n",
    "\n",
    "\n",
    "redis_set(lb_1_hue=new_lb_1_hue, lb_2_hue=new_lb_2_hue)\n",
    "print(\"looper 1 hue is {}\".format(int(redis_get(\"lb_1_hue\")[0])))\n",
    "print(\"looper 2 hue is {}\".format(int(redis_get(\"lb_2_hue\")[0])))"
   ]
  },
  {
   "cell_type": "markdown",
   "id": "c76ba82b",
   "metadata": {},
   "source": [
    "# SET LOOPER 2 HUE"
   ]
  },
  {
   "cell_type": "code",
   "execution_count": 111,
   "id": "efdcfd3c",
   "metadata": {},
   "outputs": [
    {
     "name": "stdout",
     "output_type": "stream",
     "text": [
      "looper 2 hue is 0\n"
     ]
    }
   ],
   "source": [
    "lb_2_hue = 0\n",
    "\n",
    "redis_set(lb_2_hue=lb_2_hue)\n",
    "print(\"looper 2 hue is {}\".format(int(redis_get(\"lb_2_hue\")[0])))"
   ]
  },
  {
   "cell_type": "markdown",
   "id": "9778368d",
   "metadata": {},
   "source": [
    "# MAKE LOOPERS OPPOSITE COLORS"
   ]
  },
  {
   "cell_type": "code",
   "execution_count": 21,
   "id": "905b5996",
   "metadata": {},
   "outputs": [
    {
     "name": "stdout",
     "output_type": "stream",
     "text": [
      "looper 1 hue is 128\n",
      "looper 2 hue is 1\n"
     ]
    }
   ],
   "source": [
    "new_lb2_hue = (int(redis_get(\"lb_1_hue\")[0]) + 128) % 255\n",
    "redis_set(lb_2_hue=new_lb2_hue)\n",
    "print(\"looper 1 hue is {}\".format(int(redis_get(\"lb_1_hue\")[0])))\n",
    "print(\"looper 2 hue is {}\".format(int(redis_get(\"lb_2_hue\")[0])))"
   ]
  },
  {
   "cell_type": "markdown",
   "id": "4a58d76e",
   "metadata": {},
   "source": [
    "# MAKE LOOPERS SAME COLOR"
   ]
  },
  {
   "cell_type": "code",
   "execution_count": 109,
   "id": "a92bc6b0",
   "metadata": {},
   "outputs": [
    {
     "name": "stdout",
     "output_type": "stream",
     "text": [
      "looper 1 hue is 47\n",
      "looper 2 hue is 47\n"
     ]
    }
   ],
   "source": [
    "new_lb2_hue = int(redis_get(\"lb_1_hue\")[0])\n",
    "redis_set(lb_2_hue=new_lb2_hue)\n",
    "print(\"looper 1 hue is {}\".format(int(redis_get(\"lb_1_hue\")[0])))\n",
    "print(\"looper 2 hue is {}\".format(int(redis_get(\"lb_2_hue\")[0])))"
   ]
  },
  {
   "cell_type": "code",
   "execution_count": null,
   "id": "fa8e40a3",
   "metadata": {},
   "outputs": [],
   "source": []
  },
  {
   "cell_type": "code",
   "execution_count": null,
   "id": "25d1efa3",
   "metadata": {},
   "outputs": [],
   "source": []
  },
  {
   "cell_type": "code",
   "execution_count": null,
   "id": "ea3f7178",
   "metadata": {},
   "outputs": [],
   "source": []
  },
  {
   "cell_type": "code",
   "execution_count": null,
   "id": "9957e2b5",
   "metadata": {},
   "outputs": [],
   "source": []
  },
  {
   "cell_type": "code",
   "execution_count": null,
   "id": "9c9d8788",
   "metadata": {},
   "outputs": [],
   "source": []
  },
  {
   "cell_type": "code",
   "execution_count": null,
   "id": "d24633af",
   "metadata": {},
   "outputs": [],
   "source": []
  },
  {
   "cell_type": "code",
   "execution_count": null,
   "id": "a54fffcc",
   "metadata": {},
   "outputs": [],
   "source": []
  },
  {
   "cell_type": "code",
   "execution_count": null,
   "id": "4d0f382f",
   "metadata": {},
   "outputs": [],
   "source": []
  },
  {
   "cell_type": "code",
   "execution_count": null,
   "id": "e0b1236f",
   "metadata": {},
   "outputs": [],
   "source": []
  },
  {
   "cell_type": "code",
   "execution_count": null,
   "id": "e7fa0ef9",
   "metadata": {},
   "outputs": [],
   "source": []
  },
  {
   "cell_type": "code",
   "execution_count": null,
   "id": "e7f90ec0",
   "metadata": {},
   "outputs": [],
   "source": []
  },
  {
   "cell_type": "code",
   "execution_count": null,
   "id": "25a9b3a1",
   "metadata": {},
   "outputs": [],
   "source": []
  },
  {
   "cell_type": "code",
   "execution_count": null,
   "id": "96aefe76",
   "metadata": {},
   "outputs": [],
   "source": []
  },
  {
   "cell_type": "code",
   "execution_count": null,
   "id": "f9ff6763",
   "metadata": {},
   "outputs": [],
   "source": []
  },
  {
   "cell_type": "code",
   "execution_count": null,
   "id": "18ee7dcb",
   "metadata": {},
   "outputs": [],
   "source": []
  },
  {
   "cell_type": "code",
   "execution_count": null,
   "id": "eff61c4d",
   "metadata": {},
   "outputs": [],
   "source": []
  },
  {
   "cell_type": "code",
   "execution_count": null,
   "id": "bf26b664",
   "metadata": {},
   "outputs": [],
   "source": []
  },
  {
   "cell_type": "code",
   "execution_count": null,
   "id": "3eb8ac92",
   "metadata": {},
   "outputs": [],
   "source": []
  },
  {
   "cell_type": "code",
   "execution_count": null,
   "id": "7d296dae",
   "metadata": {},
   "outputs": [],
   "source": []
  },
  {
   "cell_type": "markdown",
   "id": "f46efd97",
   "metadata": {},
   "source": [
    "# SCOLL BACK UP IT'S A MESS DOWN HERE"
   ]
  },
  {
   "cell_type": "code",
   "execution_count": 2,
   "id": "e521dd7e",
   "metadata": {},
   "outputs": [
    {
     "ename": "NameError",
     "evalue": "name 'redis_set' is not defined",
     "output_type": "error",
     "traceback": [
      "\u001b[0;31m---------------------------------------------------------------------------\u001b[0m",
      "\u001b[0;31mNameError\u001b[0m                                 Traceback (most recent call last)",
      "Input \u001b[0;32mIn [2]\u001b[0m, in \u001b[0;36m<cell line: 1>\u001b[0;34m()\u001b[0m\n\u001b[0;32m----> 1\u001b[0m \u001b[43mredis_set\u001b[49m(show_flash\u001b[38;5;241m=\u001b[39m\u001b[38;5;241m1\u001b[39m)\n\u001b[1;32m      2\u001b[0m redis_set(show_launcher\u001b[38;5;241m=\u001b[39m\u001b[38;5;241m1\u001b[39m)\n\u001b[1;32m      3\u001b[0m redis_set(show_lb_1\u001b[38;5;241m=\u001b[39m\u001b[38;5;241m1\u001b[39m)\n",
      "\u001b[0;31mNameError\u001b[0m: name 'redis_set' is not defined"
     ]
    }
   ],
   "source": [
    "redis_set(show_flash=1)\n",
    "redis_set(show_launcher=1)\n",
    "redis_set(show_lb_1=1)\n",
    "redis_set(show_lb_2=1)\n",
    "redis_set(lb_1_hue=0)\n",
    "redis_set(lb_2_hue=128)"
   ]
  },
  {
   "cell_type": "code",
   "execution_count": null,
   "id": "55ea237e",
   "metadata": {},
   "outputs": [],
   "source": []
  },
  {
   "cell_type": "code",
   "execution_count": 3,
   "id": "b30ab65c",
   "metadata": {},
   "outputs": [
    {
     "name": "stdout",
     "output_type": "stream",
     "text": [
      "Requirement already satisfied: redis in /Users/cnk/.local/share/virtualenvs/huanagetlit-oMbAilgp/lib/python3.9/site-packages (4.3.3)\n",
      "Requirement already satisfied: deprecated>=1.2.3 in /Users/cnk/.local/share/virtualenvs/huanagetlit-oMbAilgp/lib/python3.9/site-packages (from redis) (1.2.13)\n",
      "Requirement already satisfied: packaging>=20.4 in /Users/cnk/.local/share/virtualenvs/huanagetlit-oMbAilgp/lib/python3.9/site-packages (from redis) (21.3)\n",
      "Requirement already satisfied: async-timeout>=4.0.2 in /Users/cnk/.local/share/virtualenvs/huanagetlit-oMbAilgp/lib/python3.9/site-packages (from redis) (4.0.2)\n",
      "Requirement already satisfied: wrapt<2,>=1.10 in /Users/cnk/.local/share/virtualenvs/huanagetlit-oMbAilgp/lib/python3.9/site-packages (from deprecated>=1.2.3->redis) (1.14.1)\n",
      "Requirement already satisfied: pyparsing!=3.0.5,>=2.0.2 in /Users/cnk/.local/share/virtualenvs/huanagetlit-oMbAilgp/lib/python3.9/site-packages (from packaging>=20.4->redis) (3.0.9)\n",
      "Note: you may need to restart the kernel to use updated packages.\n"
     ]
    }
   ],
   "source": [
    "pip install redis"
   ]
  },
  {
   "cell_type": "code",
   "execution_count": 4,
   "id": "4bd93d48",
   "metadata": {},
   "outputs": [],
   "source": [
    "import redis"
   ]
  },
  {
   "cell_type": "code",
   "execution_count": 5,
   "id": "dd45a112",
   "metadata": {},
   "outputs": [],
   "source": [
    "r = redis.Redis()"
   ]
  },
  {
   "cell_type": "code",
   "execution_count": 6,
   "id": "614c3ab4",
   "metadata": {},
   "outputs": [
    {
     "data": {
      "text/plain": [
       "150"
      ]
     },
     "execution_count": 6,
     "metadata": {},
     "output_type": "execute_result"
    }
   ],
   "source": [
    "r.set('bpm', 150)\n",
    "int(r.get('bpm'))"
   ]
  },
  {
   "cell_type": "code",
   "execution_count": 7,
   "id": "e9c9df16",
   "metadata": {},
   "outputs": [
    {
     "data": {
      "text/plain": [
       "[b'1660020783916', b'0', b'128', b'255']"
      ]
     },
     "execution_count": 7,
     "metadata": {},
     "output_type": "execute_result"
    }
   ],
   "source": [
    "import time\n",
    "r.mset({\"ts\": int(time.time() * 1000),\n",
    "        \"hue\": 0,\n",
    "        \"sat\": 128,\n",
    "        \"val\": 255\n",
    "       })\n",
    "r.mget((\"ts\", \"hue\", \"sat\", \"val\"))"
   ]
  },
  {
   "cell_type": "code",
   "execution_count": 8,
   "id": "cbed3578",
   "metadata": {},
   "outputs": [
    {
     "data": {
      "text/plain": [
       "[b'1660020783946', b'120', b'1', b'100']"
      ]
     },
     "execution_count": 8,
     "metadata": {},
     "output_type": "execute_result"
    }
   ],
   "source": [
    "import time\n",
    "r.mset({\"ts\": int(time.time() * 1000),\n",
    "        \"bpm\": 120,\n",
    "        \"multiple\": 1,\n",
    "        \"hue\": 100\n",
    "       })\n",
    "r.mget((\"ts\", \"bpm\", \"multiple\", \"hue\"))"
   ]
  },
  {
   "cell_type": "code",
   "execution_count": 9,
   "id": "a21befe8",
   "metadata": {},
   "outputs": [
    {
     "data": {
      "text/plain": [
       "[b'150']"
      ]
     },
     "execution_count": 9,
     "metadata": {},
     "output_type": "execute_result"
    }
   ],
   "source": [
    "def redis_get(*keys):\n",
    "    return r.mget(keys)\n",
    "\n",
    "def redis_set(**kvs):\n",
    "    kvs[\"ts\"] = int(time.time() * 1000)\n",
    "    r.mset(kvs)\n",
    "    \n",
    "redis_set(bpm=150)\n",
    "redis_get(\"bpm\")"
   ]
  },
  {
   "cell_type": "code",
   "execution_count": null,
   "id": "229fc9e1",
   "metadata": {},
   "outputs": [],
   "source": []
  },
  {
   "cell_type": "code",
   "execution_count": null,
   "id": "98d1a6b0",
   "metadata": {},
   "outputs": [],
   "source": []
  },
  {
   "cell_type": "code",
   "execution_count": null,
   "id": "d8738539",
   "metadata": {},
   "outputs": [],
   "source": []
  },
  {
   "cell_type": "code",
   "execution_count": null,
   "id": "737c7a0d",
   "metadata": {},
   "outputs": [],
   "source": []
  },
  {
   "cell_type": "code",
   "execution_count": null,
   "id": "28d7d6c7",
   "metadata": {},
   "outputs": [],
   "source": []
  },
  {
   "cell_type": "code",
   "execution_count": 8,
   "id": "5183607a",
   "metadata": {},
   "outputs": [
    {
     "data": {
      "text/plain": [
       "(1659945232654, 150, 1, 100)"
      ]
     },
     "execution_count": 8,
     "metadata": {},
     "output_type": "execute_result"
    }
   ],
   "source": [
    "tuple(map(int, r.mget((\"ts\", \"bpm\", \"multiple\", \"hue\"))))"
   ]
  },
  {
   "cell_type": "code",
   "execution_count": 9,
   "id": "5ac33675",
   "metadata": {},
   "outputs": [
    {
     "data": {
      "text/plain": [
       "0.9242570901923572"
      ]
     },
     "execution_count": 9,
     "metadata": {},
     "output_type": "execute_result"
    }
   ],
   "source": [
    "import random\n",
    "hi, lo = 1.2, .7\n",
    "lo + (hi - lo) * random.random()"
   ]
  },
  {
   "cell_type": "code",
   "execution_count": 14,
   "id": "9a4b285b",
   "metadata": {},
   "outputs": [
    {
     "data": {
      "text/plain": [
       "(255, 129, 129)"
      ]
     },
     "execution_count": 14,
     "metadata": {},
     "output_type": "execute_result"
    }
   ],
   "source": [
    "import bibliopixel as bp\n",
    "bp.colors.arithmetic.color_blend((255, 0, 0), (128, 128, 128))"
   ]
  },
  {
   "cell_type": "code",
   "execution_count": 15,
   "id": "33b11065",
   "metadata": {},
   "outputs": [
    {
     "data": {
      "text/plain": [
       "(2, 2, 2)"
      ]
     },
     "execution_count": 15,
     "metadata": {},
     "output_type": "execute_result"
    }
   ],
   "source": [
    "import bibliopixel as bp\n",
    "c1 = bp.colors.conversions.hsv2rgb((0, 0, 0))\n",
    "c2 = bp.colors.conversions.hsv2rgb((0, 0, 0))\n",
    "c3 = bp.colors.conversions.hsv2rgb((0, 0, 0))\n",
    "bp.colors.arithmetic.color_blend(\n",
    "    bp.colors.arithmetic.color_blend(c1, c2),\n",
    "    c3)"
   ]
  },
  {
   "cell_type": "code",
   "execution_count": 16,
   "id": "6d5ab382",
   "metadata": {},
   "outputs": [
    {
     "data": {
      "text/plain": [
       "(0.6666666666666666, 1.0, 1.0)"
      ]
     },
     "execution_count": 16,
     "metadata": {},
     "output_type": "execute_result"
    }
   ],
   "source": [
    "bp.colors.conversions.rgb_to_hsv((0, 0, 255))"
   ]
  },
  {
   "cell_type": "code",
   "execution_count": 17,
   "id": "3b8f6bed",
   "metadata": {},
   "outputs": [],
   "source": [
    "from animations import strips"
   ]
  },
  {
   "cell_type": "code",
   "execution_count": 18,
   "id": "d80f0530",
   "metadata": {},
   "outputs": [
    {
     "ename": "TypeError",
     "evalue": "Matrix.__init__() missing 1 required positional argument: 'layout'",
     "output_type": "error",
     "traceback": [
      "\u001b[0;31m---------------------------------------------------------------------------\u001b[0m",
      "\u001b[0;31mTypeError\u001b[0m                                 Traceback (most recent call last)",
      "Input \u001b[0;32mIn [18]\u001b[0m, in \u001b[0;36m<cell line: 1>\u001b[0;34m()\u001b[0m\n\u001b[0;32m----> 1\u001b[0m \u001b[43mstrips\u001b[49m\u001b[38;5;241;43m.\u001b[39;49m\u001b[43mCombo\u001b[49m\u001b[43m(\u001b[49m\u001b[43m)\u001b[49m\n",
      "File \u001b[0;32m~/workspace/huanagetlit/animations/strips.py:585\u001b[0m, in \u001b[0;36mCombo.__init__\u001b[0;34m(self, bpm, multiple, *args, **kwds)\u001b[0m\n\u001b[1;32m    581\u001b[0m \u001b[38;5;28;01mdef\u001b[39;00m \u001b[38;5;21m__init__\u001b[39m(\u001b[38;5;28mself\u001b[39m, \u001b[38;5;241m*\u001b[39margs,\n\u001b[1;32m    582\u001b[0m              bpm\u001b[38;5;241m=\u001b[39m\u001b[38;5;241m100\u001b[39m,\n\u001b[1;32m    583\u001b[0m              multiple\u001b[38;5;241m=\u001b[39m\u001b[38;5;241m1\u001b[39m,\n\u001b[1;32m    584\u001b[0m              \u001b[38;5;241m*\u001b[39m\u001b[38;5;241m*\u001b[39mkwds):\n\u001b[0;32m--> 585\u001b[0m     \u001b[38;5;28;43msuper\u001b[39;49m\u001b[43m(\u001b[49m\u001b[43m)\u001b[49m\u001b[38;5;241;43m.\u001b[39;49m\u001b[38;5;21;43m__init__\u001b[39;49m\u001b[43m(\u001b[49m\u001b[38;5;241;43m*\u001b[39;49m\u001b[43margs\u001b[49m\u001b[43m,\u001b[49m\u001b[43m \u001b[49m\u001b[38;5;241;43m*\u001b[39;49m\u001b[38;5;241;43m*\u001b[39;49m\u001b[43mkwds\u001b[49m\u001b[43m)\u001b[49m\n\u001b[1;32m    586\u001b[0m     \u001b[38;5;28mself\u001b[39m\u001b[38;5;241m.\u001b[39mclock \u001b[38;5;241m=\u001b[39m Clock(bpm, multiple)\n\u001b[1;32m    587\u001b[0m     \u001b[38;5;66;03m# self.clock2 = Clock(int(3 / 2 * bpm), 2)\u001b[39;00m\n\u001b[1;32m    588\u001b[0m     \u001b[38;5;66;03m# self.clock3 = Clock(4 * bpm, 1)\u001b[39;00m\n",
      "\u001b[0;31mTypeError\u001b[0m: Matrix.__init__() missing 1 required positional argument: 'layout'"
     ]
    }
   ],
   "source": [
    "strips.Combo()"
   ]
  },
  {
   "cell_type": "code",
   "execution_count": null,
   "id": "572ad0f0",
   "metadata": {},
   "outputs": [],
   "source": [
    "import bisect\n",
    "bisect.bisect_left(range(10), 4)"
   ]
  },
  {
   "cell_type": "code",
   "execution_count": null,
   "id": "96490728",
   "metadata": {},
   "outputs": [],
   "source": [
    "import math\n",
    "ab = [[(1, 2, 3), (4, 5, 6), (7, 8, 9)],\n",
    "      [(11, 22, 33), (44, 55, 66), (77, 88, 99)],\n",
    "      [(111, 222, 333), (444, 555, 666), (777, 888, 999)],\n",
    "      [(1111, 2222, 3333), (4444, 5555, 6666), (7777, 8888, 9999)]]\n",
    "for hsvs_t in list(zip(*ab)):\n",
    "    print(hsvs_t)\n",
    "    hs, ss, vs = zip(*hsvs)\n",
    "    h = max(hs)\n",
    "    s = sum(ss) // len(ss)\n",
    "    v = max(vs)\n",
    "#     print(h, s, v)\n",
    "    \n",
    "[(max(hues), sum(sats), max(vals)) for hues, sats, vals in (zip(*hsvs_t) for hsvs_t in (hsvs for hsvs in zip(*ab)))]\n",
    "# [[(max(x[0]), sum(x[1]) // len(x[1]), max(x[2])) for x in zip(*hsvs)] for hsvs in list(zip(*ab))]"
   ]
  },
  {
   "cell_type": "code",
   "execution_count": null,
   "id": "d2e3cc95",
   "metadata": {},
   "outputs": [],
   "source": [
    "aa = [(1, 2, 3), (4, 5, 6)]\n",
    "aa * 2"
   ]
  },
  {
   "cell_type": "code",
   "execution_count": null,
   "id": "519208dc",
   "metadata": {},
   "outputs": [],
   "source": [
    "[aa, aa]"
   ]
  },
  {
   "cell_type": "code",
   "execution_count": null,
   "id": "52623bc7",
   "metadata": {},
   "outputs": [],
   "source": [
    "list(range(5, 5))"
   ]
  },
  {
   "cell_type": "code",
   "execution_count": null,
   "id": "862eeda7",
   "metadata": {},
   "outputs": [],
   "source": [
    "import random\n",
    "random.randint(0, 1)"
   ]
  },
  {
   "cell_type": "code",
   "execution_count": null,
   "id": "ad30821a",
   "metadata": {},
   "outputs": [],
   "source": [
    "# h1=1 h2=11   ## add h1\n",
    "(11 - 1) % 255\n",
    "# = 10 < 128 so\n",
    "1 + 10"
   ]
  },
  {
   "cell_type": "code",
   "execution_count": null,
   "id": "2e8496e9",
   "metadata": {},
   "outputs": [],
   "source": [
    "# h1=11 h2=1   ## add h2\n",
    "(1 - 11) % 255\n",
    "# = 245 > 128 so\n",
    "11 - (255 - 245)"
   ]
  },
  {
   "cell_type": "code",
   "execution_count": null,
   "id": "a69e1735",
   "metadata": {},
   "outputs": [],
   "source": [
    "#h1=10, h2=250  ## add h2?\n",
    "(250 - 10) % 255\n",
    "# = 240 > 128 so\n",
    "(10 - (255 - 240)) % 255"
   ]
  },
  {
   "cell_type": "code",
   "execution_count": null,
   "id": "62e22a8c",
   "metadata": {},
   "outputs": [],
   "source": [
    "#h1=250, h2=10  ## add h1\n",
    "(10 - 250) % 255\n",
    "# = 15 < 128 so\n",
    "(250 + 15) % 255"
   ]
  },
  {
   "cell_type": "code",
   "execution_count": null,
   "id": "752b7a64",
   "metadata": {},
   "outputs": [],
   "source": [
    "def blend_h(h1, h2, ratio=.5):\n",
    "        diff = (h2 - h1) % 255\n",
    "        if diff % 255 <= 128:\n",
    "            moveby = int((1 - ratio) * diff)\n",
    "            return (h1 + moveby) % 255\n",
    "        else:\n",
    "            diff = 255 - diff\n",
    "            moveby = int((1 - ratio) * diff)\n",
    "            return (h1 - moveby) % 255"
   ]
  },
  {
   "cell_type": "code",
   "execution_count": null,
   "id": "d3f14d58",
   "metadata": {},
   "outputs": [],
   "source": [
    "blend_h(2, 254)"
   ]
  },
  {
   "cell_type": "code",
   "execution_count": null,
   "id": "fcbff10b",
   "metadata": {},
   "outputs": [],
   "source": [
    "[[blend_h(x, y) for x in range(255)] for y in range(10)]"
   ]
  },
  {
   "cell_type": "code",
   "execution_count": null,
   "id": "e52cbb41",
   "metadata": {},
   "outputs": [],
   "source": [
    "blend_h(10, 180, .9)"
   ]
  },
  {
   "cell_type": "code",
   "execution_count": null,
   "id": "a4dcc00b",
   "metadata": {},
   "outputs": [],
   "source": [
    "list(range(1, 1))"
   ]
  },
  {
   "cell_type": "code",
   "execution_count": null,
   "id": "7620317c",
   "metadata": {},
   "outputs": [],
   "source": []
  },
  {
   "cell_type": "code",
   "execution_count": null,
   "id": "9abfc4ac",
   "metadata": {},
   "outputs": [],
   "source": []
  },
  {
   "cell_type": "code",
   "execution_count": null,
   "id": "444bad7a",
   "metadata": {},
   "outputs": [],
   "source": [
    "list(range(0, 255, 10))"
   ]
  },
  {
   "cell_type": "code",
   "execution_count": null,
   "id": "2c7097cb",
   "metadata": {},
   "outputs": [],
   "source": []
  },
  {
   "cell_type": "code",
   "execution_count": null,
   "id": "1be19552",
   "metadata": {},
   "outputs": [],
   "source": []
  },
  {
   "cell_type": "code",
   "execution_count": null,
   "id": "7c680b2b",
   "metadata": {},
   "outputs": [],
   "source": []
  },
  {
   "cell_type": "code",
   "execution_count": null,
   "id": "e88ec330",
   "metadata": {},
   "outputs": [],
   "source": []
  },
  {
   "cell_type": "code",
   "execution_count": null,
   "id": "4c9b5cbd",
   "metadata": {},
   "outputs": [],
   "source": []
  },
  {
   "cell_type": "code",
   "execution_count": null,
   "id": "0f1eb532",
   "metadata": {},
   "outputs": [],
   "source": []
  },
  {
   "cell_type": "code",
   "execution_count": 34,
   "id": "5c4c7605",
   "metadata": {},
   "outputs": [
    {
     "data": {
      "text/plain": [
       "1"
      ]
     },
     "execution_count": 34,
     "metadata": {},
     "output_type": "execute_result"
    }
   ],
   "source": [
    "import bisect\n",
    "bisect.bisect(((100), (200), (300)), 101)"
   ]
  },
  {
   "cell_type": "code",
   "execution_count": 42,
   "id": "a3cf1c70",
   "metadata": {},
   "outputs": [
    {
     "data": {
      "text/plain": [
       "[0, 1, 2, 3, 4, 5, 6, 7, 8, 9]"
      ]
     },
     "execution_count": 42,
     "metadata": {},
     "output_type": "execute_result"
    }
   ],
   "source": [
    "aa = [x for x in range(10)]\n",
    "aa"
   ]
  },
  {
   "cell_type": "code",
   "execution_count": 43,
   "id": "23bd3347",
   "metadata": {},
   "outputs": [
    {
     "data": {
      "text/plain": [
       "[0, 1, 2, 3, 5, 6, 7, 8, 9]"
      ]
     },
     "execution_count": 43,
     "metadata": {},
     "output_type": "execute_result"
    }
   ],
   "source": [
    "del aa[4]\n",
    "aa"
   ]
  },
  {
   "cell_type": "code",
   "execution_count": 69,
   "id": "ed5e218b",
   "metadata": {},
   "outputs": [],
   "source": [
    "d.get(2)"
   ]
  },
  {
   "cell_type": "code",
   "execution_count": null,
   "id": "6e81aad4",
   "metadata": {},
   "outputs": [],
   "source": []
  }
 ],
 "metadata": {
  "kernelspec": {
   "display_name": "Python 3 (ipykernel)",
   "language": "python",
   "name": "python3"
  },
  "language_info": {
   "codemirror_mode": {
    "name": "ipython",
    "version": 3
   },
   "file_extension": ".py",
   "mimetype": "text/x-python",
   "name": "python",
   "nbconvert_exporter": "python",
   "pygments_lexer": "ipython3",
   "version": "3.9.7"
  }
 },
 "nbformat": 4,
 "nbformat_minor": 5
}
